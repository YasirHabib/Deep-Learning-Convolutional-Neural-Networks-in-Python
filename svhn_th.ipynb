{
  "nbformat": 4,
  "nbformat_minor": 0,
  "metadata": {
    "colab": {
      "name": "svhn_th.ipynb",
      "version": "0.3.2",
      "provenance": [],
      "collapsed_sections": [],
      "include_colab_link": true
    },
    "kernelspec": {
      "name": "python3",
      "display_name": "Python 3"
    }
  },
  "cells": [
    {
      "cell_type": "markdown",
      "metadata": {
        "id": "view-in-github",
        "colab_type": "text"
      },
      "source": [
        "<a href=\"https://colab.research.google.com/github/YasirHabib/Deep-Learning-Convolutional-Neural-Networks-in-Python/blob/master/svhn_th.ipynb\" target=\"_parent\"><img src=\"https://colab.research.google.com/assets/colab-badge.svg\" alt=\"Open In Colab\"/></a>"
      ]
    },
    {
      "cell_type": "code",
      "metadata": {
        "id": "ytuWQWLPzTS6",
        "colab_type": "code",
        "colab": {}
      },
      "source": [
        "import numpy as np\n",
        "import scipy.io\n",
        "import matplotlib.pyplot as plt"
      ],
      "execution_count": 0,
      "outputs": []
    },
    {
      "cell_type": "code",
      "metadata": {
        "id": "85wgVBlg0AY4",
        "colab_type": "code",
        "colab": {}
      },
      "source": [
        "import theano.tensor as T\n",
        "import theano"
      ],
      "execution_count": 0,
      "outputs": []
    },
    {
      "cell_type": "code",
      "metadata": {
        "id": "j35cnX1AyUgp",
        "colab_type": "code",
        "colab": {
          "base_uri": "https://localhost:8080/",
          "height": 34
        },
        "outputId": "add10a20-5e46-46af-b3a2-09d6c64803fc"
      },
      "source": [
        "def main():\n",
        "  from google.colab import drive\n",
        "  drive.mount('/content/gdrive', force_remount = True)\n",
        "  \n",
        "  train = scipy.io.loadmat('/content/gdrive/My Drive/Colab Notebooks/Convolutional Neural Networks/train_32x32.mat')\n",
        "  test = scipy.io.loadmat('/content/gdrive/My Drive/Colab Notebooks/Convolutional Neural Networks/test_32x32.mat')\n",
        "  \n",
        "  Xtrain = train['X']             # 'X' is a dictionary key pointing to the input data\n",
        "  Ytrain = train['y']             # 'y' is a dictionary key pointing to the targets\n",
        "  #print(Xtrain.shape)            # (32, 32, 3, 73257). This means each N (73257 here) is 32x32x3. H=32, W=32, Colors=3\n",
        "  #print(Ytrain.shape)            # (73257, 1)\n",
        "  \n",
        "  Ytrain = Ytrain.flatten() - 1\n",
        "  #print(Ytrain.shape)            # (73257,)\n",
        "  \n",
        "  Xtest = test['X']\n",
        "  Ytest = test['y']\n",
        "  #print(Xtest.shape)             # (32, 32, 3, 26032). This means each N (26032 here) is 32x32x3. H=32, W=32, Colors=3\n",
        "  #print(Ytest.shape)             # (26032, 1)\n",
        "  \n",
        "  Ytest = Ytest.flatten() - 1\n",
        "  #print(Ytest.shape)             # (26032,)\n",
        "  \n",
        "  Xtrain = (Xtrain.transpose(3,2,0,1) / 255).astype(np.float32)\n",
        "  Xtest = (Xtest.transpose(3,2,0,1) / 255).astype(np.float32)\n",
        "  \n",
        "if __name__ == '__main__':\n",
        "  main()"
      ],
      "execution_count": 59,
      "outputs": [
        {
          "output_type": "stream",
          "text": [
            "Mounted at /content/gdrive\n"
          ],
          "name": "stdout"
        }
      ]
    }
  ]
}