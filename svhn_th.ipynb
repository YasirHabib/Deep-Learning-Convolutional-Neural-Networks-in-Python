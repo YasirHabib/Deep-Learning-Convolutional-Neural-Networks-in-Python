{
  "nbformat": 4,
  "nbformat_minor": 0,
  "metadata": {
    "colab": {
      "name": "svhn_th.ipynb",
      "version": "0.3.2",
      "provenance": [],
      "collapsed_sections": [],
      "include_colab_link": true
    },
    "kernelspec": {
      "name": "python3",
      "display_name": "Python 3"
    }
  },
  "cells": [
    {
      "cell_type": "markdown",
      "metadata": {
        "id": "view-in-github",
        "colab_type": "text"
      },
      "source": [
        "<a href=\"https://colab.research.google.com/github/YasirHabib/Deep-Learning-Convolutional-Neural-Networks-in-Python/blob/master/svhn_th.ipynb\" target=\"_parent\"><img src=\"https://colab.research.google.com/assets/colab-badge.svg\" alt=\"Open In Colab\"/></a>"
      ]
    },
    {
      "cell_type": "code",
      "metadata": {
        "id": "j35cnX1AyUgp",
        "colab_type": "code",
        "colab": {}
      },
      "source": [
        "def main():\n",
        "  pass\n",
        "  \n",
        "  \n",
        "if __name__ == '__main__':\n",
        "  main()"
      ],
      "execution_count": 0,
      "outputs": []
    }
  ]
}