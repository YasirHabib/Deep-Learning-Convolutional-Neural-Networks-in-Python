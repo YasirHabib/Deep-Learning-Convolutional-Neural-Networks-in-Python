{
  "nbformat": 4,
  "nbformat_minor": 0,
  "metadata": {
    "colab": {
      "name": "svhn_th.ipynb",
      "version": "0.3.2",
      "provenance": [],
      "collapsed_sections": [],
      "machine_shape": "hm",
      "include_colab_link": true
    },
    "kernelspec": {
      "name": "python3",
      "display_name": "Python 3"
    },
    "accelerator": "GPU"
  },
  "cells": [
    {
      "cell_type": "markdown",
      "metadata": {
        "id": "view-in-github",
        "colab_type": "text"
      },
      "source": [
        "<a href=\"https://colab.research.google.com/github/YasirHabib/Deep-Learning-Convolutional-Neural-Networks-in-Python/blob/master/svhn_th.ipynb\" target=\"_parent\"><img src=\"https://colab.research.google.com/assets/colab-badge.svg\" alt=\"Open In Colab\"/></a>"
      ]
    },
    {
      "cell_type": "code",
      "metadata": {
        "id": "ytuWQWLPzTS6",
        "colab_type": "code",
        "colab": {}
      },
      "source": [
        "import numpy as np\n",
        "import scipy.io\n",
        "import matplotlib.pyplot as plt"
      ],
      "execution_count": 0,
      "outputs": []
    },
    {
      "cell_type": "code",
      "metadata": {
        "id": "85wgVBlg0AY4",
        "colab_type": "code",
        "colab": {}
      },
      "source": [
        "import theano.tensor as T\n",
        "import theano"
      ],
      "execution_count": 0,
      "outputs": []
    },
    {
      "cell_type": "code",
      "metadata": {
        "id": "_6PrW1vu7IvY",
        "colab_type": "code",
        "colab": {}
      },
      "source": [
        "from theano.tensor.nnet import conv2d\n",
        "from theano.tensor.signal import pool"
      ],
      "execution_count": 0,
      "outputs": []
    },
    {
      "cell_type": "code",
      "metadata": {
        "id": "1HGDiH7Aw04p",
        "colab_type": "code",
        "colab": {}
      },
      "source": [
        "def init_filter(shape):\n",
        "  w = np.random.randn(*shape) * np.sqrt(2.0 / np.prod(shape[1:]))\n",
        "  return w.astype(np.float32)"
      ],
      "execution_count": 0,
      "outputs": []
    },
    {
      "cell_type": "code",
      "metadata": {
        "id": "wYDJ9w1byT9x",
        "colab_type": "code",
        "colab": {}
      },
      "source": [
        "def convpool(X, W, b, pool_sz):\n",
        "  conv_out = conv2d(input=X, filters=W)\n",
        "\n",
        "  # downsample each feature map individually, using maxpooling\n",
        "  pooled_out = pool.pool_2d(\n",
        "      input=conv_out,\n",
        "      ws=pool_sz,\n",
        "      ignore_border=True\n",
        "  )\n",
        "  return T.nnet.relu(pooled_out + b.dimshuffle('x', 0, 'x', 'x'))"
      ],
      "execution_count": 0,
      "outputs": []
    },
    {
      "cell_type": "code",
      "metadata": {
        "id": "XjQ02OVrCs0d",
        "colab_type": "code",
        "colab": {}
      },
      "source": [
        "def optimizer_update_momentum(cost, parameters, lr, mu=0.9):\n",
        "  mu = np.float32(mu)\n",
        "  grads = T.grad(cost, parameters)\n",
        "  updates = []\n",
        "  for p, g in zip(parameters, grads):\n",
        "    # momentum\n",
        "\t  zeros = np.zeros_like(p.get_value(), dtype=np.float32)\n",
        "\t  m = theano.shared(zeros)\n",
        "\t  new_m = mu*m - lr*g\n",
        "\n",
        "\t\t# param update\n",
        "\t  update_p = p + new_m\n",
        "\n",
        "\t\t# append the updates\n",
        "\t  updates.append((p, update_p))\n",
        "    \n",
        "  return updates"
      ],
      "execution_count": 0,
      "outputs": []
    },
    {
      "cell_type": "code",
      "metadata": {
        "id": "8Oe2L6ARDDaz",
        "colab_type": "code",
        "colab": {}
      },
      "source": [
        "class HiddenLayer():\n",
        "  def __init__(self, D, M):\n",
        "    W = np.random.randn(D, M) / np.sqrt(D)\n",
        "    b = np.zeros(M)\n",
        "    \n",
        "    self.W = theano.shared(W.astype(np.float32))\n",
        "    self.b = theano.shared(b.astype(np.float32))\n",
        "    \n",
        "    self.params = [self.W, self.b]\n",
        "    \n",
        "  def HiddenLayer_forward(self, X):\n",
        "    return T.nnet.relu(X.dot(self.W)+self.b)"
      ],
      "execution_count": 0,
      "outputs": []
    },
    {
      "cell_type": "code",
      "metadata": {
        "id": "yTByKIBvEaYT",
        "colab_type": "code",
        "colab": {}
      },
      "source": [
        "class FinalLayer():\n",
        "  def __init__(self, M, K):\n",
        "    W = np.random.randn(M, K) / np.sqrt(M)\n",
        "    b = np.zeros(K)\n",
        "    \n",
        "    self.W = theano.shared(W.astype(np.float32))\n",
        "    self.b = theano.shared(b.astype(np.float32))\n",
        "    \n",
        "    self.params = [self.W, self.b]\n",
        "    \n",
        "  def FinalLayer_forward(self, Z):\n",
        "    return T.nnet.softmax(Z.dot(self.W)+self.b)"
      ],
      "execution_count": 0,
      "outputs": []
    },
    {
      "cell_type": "code",
      "metadata": {
        "id": "L9X-30Jp_AqK",
        "colab_type": "code",
        "colab": {}
      },
      "source": [
        "class CNN():\n",
        "  def __init__(self, size):\n",
        "    self.size = size\n",
        "    \n",
        "  def fit(self, Xtrain, Ytrain, Xtest, Ytest, lr=1e-1, reg=0.01, training_epochs=10, batch_sz=500):\n",
        "    \n",
        "    lr = np.float32(lr)\n",
        "\n",
        "    N = Xtrain.shape[0]    \n",
        "    K = len(set(Ytrain))\n",
        "    pool_sz = (2, 2)\n",
        "    \n",
        "    # after conv will be of dimension 32 - 5 + 1 = 28\n",
        "    # after downsample 28 / 2 = 14\n",
        "    W1_shape = (20, 3, 5, 5) # (num_feature_maps, num_color_channels, filter_width, filter_height)\n",
        "    W1 = init_filter(W1_shape)\n",
        "    b1 = np.zeros(W1_shape[0], dtype=np.float32)\n",
        "    \n",
        "    # after conv will be of dimension 14 - 5 + 1 = 10\n",
        "    # after downsample 10 / 2 = 5\n",
        "    W2_shape = (50, 20, 5, 5) # (num_feature_maps, num_color_channels, filter_width, filter_height)\n",
        "    W2 = init_filter(W2_shape)\n",
        "    b2 = np.zeros(W2_shape[0], dtype=np.float32)\n",
        "    \n",
        "    X = T.tensor4('X', dtype='float32')\n",
        "    Y = T.ivector('Y')\n",
        "    W1 = theano.shared(W1)\n",
        "    b1 = theano.shared(b1)\n",
        "    W2 = theano.shared(W2)\n",
        "    b2 = theano.shared(b2)\n",
        "    \n",
        "    self.parameters = [W1,b1,W2,b2]\n",
        "    \n",
        "    self.layers = []\n",
        "    h = HiddenLayer(W2_shape[0]*5*5, self.size)\n",
        "    self.layers.append(h)\n",
        "    \n",
        "    f = FinalLayer(self.size, K)\n",
        "    self.layers.append(f)\n",
        "    \n",
        "    for obj in self.layers:\n",
        "      self.parameters += obj.params\n",
        "    \n",
        "    # forward pass\n",
        "    Z1 = convpool(X, W1, b1, pool_sz)\n",
        "    Z2 = convpool(Z1, W2, b2, pool_sz)\n",
        "    Z3 = Z2.flatten(ndim=2)\n",
        "    pY = self.th_forward(Z3)\n",
        "    \n",
        "    rcost = reg*T.sum([(p*p).sum() for p in self.parameters])\n",
        "    cost = -T.mean(T.log(pY[T.arange(Y.shape[0]), Y])) + rcost\n",
        "    \n",
        "    updates = optimizer_update_momentum(cost, self.parameters, lr)\n",
        "    \n",
        "    train_op = theano.function(inputs=[X,Y], updates=updates)\n",
        "    \n",
        "    prediction = T.argmax(pY, axis=1)\n",
        "    test_op = theano.function(inputs=[X,Y], outputs=[cost, prediction])\n",
        "    \n",
        "    n_batches = N // batch_sz\n",
        "    costs = []\n",
        "    \n",
        "    for epoch in range(training_epochs):\n",
        "      for j in range(n_batches):\n",
        "        Xbatch = Xtrain[j*batch_sz:(j*batch_sz + batch_sz)]\n",
        "        Ybatch = Ytrain[j*batch_sz:(j*batch_sz + batch_sz)]\n",
        "        \n",
        "        train_op(Xbatch, Ybatch)\n",
        "        \n",
        "        if j % 50 == 0:\n",
        "          c, p = test_op(Xtest, Ytest)\n",
        "          costs.append(c)\n",
        "          e = np.mean(p != Ytest)\n",
        "          print(\"Epoch\", (epoch + 1), \"Batch\", j, \": cost =\", \"%.2f\" % c, \"error rate =\", \"%.2f\" % e)\n",
        "          \n",
        "    plt.plot(costs, label=\"cost\")\n",
        "    plt.legend()\n",
        "    plt.show()\n",
        "    \n",
        "  def th_forward(self, X):\n",
        "    for obj in self.layers[:-1]:\n",
        "      Z = obj.HiddenLayer_forward(X)\n",
        "    for obj in self.layers[-1:]:\n",
        "      pY = obj.FinalLayer_forward(Z)\n",
        "    return pY    "
      ],
      "execution_count": 0,
      "outputs": []
    },
    {
      "cell_type": "code",
      "metadata": {
        "id": "j35cnX1AyUgp",
        "colab_type": "code",
        "outputId": "2eddd22b-8f01-49c2-f46b-b1540d412581",
        "colab": {
          "base_uri": "https://localhost:8080/",
          "height": 833
        }
      },
      "source": [
        "def main():\n",
        "  from google.colab import drive\n",
        "  drive.mount('/content/gdrive', force_remount = True)\n",
        "  \n",
        "  train = scipy.io.loadmat('/content/gdrive/My Drive/Colab Notebooks/Convolutional Neural Networks/train_32x32.mat')\n",
        "  test = scipy.io.loadmat('/content/gdrive/My Drive/Colab Notebooks/Convolutional Neural Networks/test_32x32.mat')\n",
        "  \n",
        "  Xtrain = train['X']             # 'X' is a dictionary key pointing to the input data\n",
        "  Ytrain = train['y']             # 'y' is a dictionary key pointing to the targets\n",
        "  #print(Xtrain.shape)            # (32, 32, 3, 73257). This means each N (73257 here) is 32x32x3. H=32, W=32, Colors=3\n",
        "  #print(Ytrain.shape)            # (73257, 1)\n",
        "  \n",
        "  Ytrain = Ytrain.flatten() - 1\n",
        "  #print(Ytrain.shape)            # (73257,)\n",
        "  \n",
        "  Xtest = test['X']\n",
        "  Ytest = test['y']\n",
        "  #print(Xtest.shape)             # (32, 32, 3, 26032). This means each N (26032 here) is 32x32x3. H=32, W=32, Colors=3\n",
        "  #print(Ytest.shape)             # (26032, 1)\n",
        "  \n",
        "  Ytest = Ytest.flatten() - 1\n",
        "  #print(Ytest.shape)             # (26032,)\n",
        "  \n",
        "  Xtrain = (Xtrain.transpose(3,2,0,1) / 255).astype(np.float32)\n",
        "  Xtest = (Xtest.transpose(3,2,0,1) / 255).astype(np.float32)\n",
        "  \n",
        "  model = CNN(500)\n",
        "  model.fit(Xtrain, Ytrain, Xtest, Ytest)\n",
        "  \n",
        "if __name__ == '__main__':\n",
        "  main()"
      ],
      "execution_count": 20,
      "outputs": [
        {
          "output_type": "stream",
          "text": [
            "Mounted at /content/gdrive\n"
          ],
          "name": "stdout"
        },
        {
          "output_type": "stream",
          "text": [
            "WARNING (theano.tensor.blas): We did not find a dynamic library in the library_dir of the library we use for blas. If you use ATLAS, make sure to compile it with dynamics library.\n"
          ],
          "name": "stderr"
        },
        {
          "output_type": "stream",
          "text": [
            "Epoch 1 Batch 0 : cost = 10.18 error rate = 0.84\n",
            "Epoch 1 Batch 50 : cost = 7.53 error rate = 0.80\n",
            "Epoch 1 Batch 100 : cost = 6.56 error rate = 0.80\n",
            "Epoch 2 Batch 0 : cost = 5.80 error rate = 0.76\n",
            "Epoch 2 Batch 50 : cost = 5.03 error rate = 0.76\n",
            "Epoch 2 Batch 100 : cost = 4.27 error rate = 0.57\n",
            "Epoch 3 Batch 0 : cost = 3.81 error rate = 0.45\n",
            "Epoch 3 Batch 50 : cost = 3.12 error rate = 0.37\n",
            "Epoch 3 Batch 100 : cost = 3.00 error rate = 0.43\n",
            "Epoch 4 Batch 0 : cost = 2.57 error rate = 0.33\n",
            "Epoch 4 Batch 50 : cost = 2.25 error rate = 0.28\n",
            "Epoch 4 Batch 100 : cost = 2.37 error rate = 0.38\n",
            "Epoch 5 Batch 0 : cost = 1.92 error rate = 0.24\n",
            "Epoch 5 Batch 50 : cost = 1.75 error rate = 0.22\n",
            "Epoch 5 Batch 100 : cost = 1.71 error rate = 0.24\n",
            "Epoch 6 Batch 0 : cost = 1.59 error rate = 0.21\n",
            "Epoch 6 Batch 50 : cost = 1.50 error rate = 0.20\n",
            "Epoch 6 Batch 100 : cost = 1.79 error rate = 0.33\n",
            "Epoch 7 Batch 0 : cost = 1.47 error rate = 0.21\n",
            "Epoch 7 Batch 50 : cost = 1.35 error rate = 0.19\n",
            "Epoch 7 Batch 100 : cost = 1.37 error rate = 0.21\n",
            "Epoch 8 Batch 0 : cost = 1.30 error rate = 0.19\n",
            "Epoch 8 Batch 50 : cost = 1.26 error rate = 0.18\n",
            "Epoch 8 Batch 100 : cost = 1.68 error rate = 0.34\n",
            "Epoch 9 Batch 0 : cost = 1.35 error rate = 0.22\n",
            "Epoch 9 Batch 50 : cost = 1.28 error rate = 0.19\n",
            "Epoch 9 Batch 100 : cost = 1.43 error rate = 0.25\n",
            "Epoch 10 Batch 0 : cost = 1.20 error rate = 0.18\n",
            "Epoch 10 Batch 50 : cost = 1.22 error rate = 0.18\n",
            "Epoch 10 Batch 100 : cost = 1.22 error rate = 0.19\n"
          ],
          "name": "stdout"
        },
        {
          "output_type": "display_data",
          "data": {
            "image/png": "[encoded data removed]",
            "text/plain": [
              "<Figure size 432x288 with 1 Axes>"
            ]
          },
          "metadata": {
            "tags": []
          }
        }
      ]
    }
  ]
}