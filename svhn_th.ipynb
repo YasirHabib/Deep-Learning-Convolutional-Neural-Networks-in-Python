{
  "nbformat": 4,
  "nbformat_minor": 0,
  "metadata": {
    "colab": {
      "name": "svhn_th.ipynb",
      "version": "0.3.2",
      "provenance": [],
      "collapsed_sections": [],
      "include_colab_link": true
    },
    "kernelspec": {
      "name": "python3",
      "display_name": "Python 3"
    },
    "accelerator": "GPU"
  },
  "cells": [
    {
      "cell_type": "markdown",
      "metadata": {
        "id": "view-in-github",
        "colab_type": "text"
      },
      "source": [
        "<a href=\"https://colab.research.google.com/github/YasirHabib/Deep-Learning-Convolutional-Neural-Networks-in-Python/blob/master/svhn_th.ipynb\" target=\"_parent\"><img src=\"https://colab.research.google.com/assets/colab-badge.svg\" alt=\"Open In Colab\"/></a>"
      ]
    },
    {
      "cell_type": "code",
      "metadata": {
        "id": "ytuWQWLPzTS6",
        "colab_type": "code",
        "colab": {}
      },
      "source": [
        "import numpy as np\n",
        "import scipy.io\n",
        "import matplotlib.pyplot as plt"
      ],
      "execution_count": 0,
      "outputs": []
    },
    {
      "cell_type": "code",
      "metadata": {
        "id": "85wgVBlg0AY4",
        "colab_type": "code",
        "colab": {}
      },
      "source": [
        "import theano.tensor as T\n",
        "import theano"
      ],
      "execution_count": 0,
      "outputs": []
    },
    {
      "cell_type": "code",
      "metadata": {
        "id": "8Oe2L6ARDDaz",
        "colab_type": "code",
        "colab": {}
      },
      "source": [
        "class HiddenLayer():\n",
        "  def __init__(self, D, M):\n",
        "    W = np.random.randn(D, M) / np.sqrt(D)\n",
        "    b = np.zeros(M)\n",
        "    \n",
        "    self.W = theano.shared(W)\n",
        "    self.b = theano.shared(b)\n",
        "    \n",
        "    self.params = [self.W, self.b]\n",
        "    \n",
        "  def HiddenLayer_forward(self, X):\n",
        "    return T.nnet.relu(X.dot(self.W)+self.b)"
      ],
      "execution_count": 0,
      "outputs": []
    },
    {
      "cell_type": "code",
      "metadata": {
        "id": "yTByKIBvEaYT",
        "colab_type": "code",
        "colab": {}
      },
      "source": [
        "class FinalLayer():\n",
        "  def __init__(self, M, K):\n",
        "    W = np.random.randn(M, K) / np.sqrt(M)\n",
        "    b = np.zeros(K)\n",
        "    \n",
        "    self.W = theano.shared(W)\n",
        "    self.b = theano.shared(b)\n",
        "    \n",
        "    self.params = [self.W, self.b]\n",
        "    \n",
        "  def FinalLayer_forward(self, Z):\n",
        "    return T.nnet.softmax(Z.dot(self.W)+self.b)"
      ],
      "execution_count": 0,
      "outputs": []
    },
    {
      "cell_type": "code",
      "metadata": {
        "id": "L9X-30Jp_AqK",
        "colab_type": "code",
        "colab": {
          "base_uri": "https://localhost:8080/",
          "height": 129
        },
        "outputId": "c9def145-d8c8-4ff6-8870-31ff0b9f6a07"
      },
      "source": [
        "class ANN():\n",
        "  def __init__(self, size):\n",
        "    self.size = size\n",
        "    \n",
        "  def fit(self, Xtrain, Ytrain, Xtest, Ytest, lr=10e-2, reg=0.01, training_epochs=10, batch_sz=500):\n",
        "    N = Xtrain.shape[0]    \n",
        "    K = len(set(Ytrain))\n",
        "    poolsz = (2, 2)\n",
        "    \n",
        "    # after conv will be of dimension 32 - 5 + 1 = 28\n",
        "    # after downsample 28 / 2 = 14\n",
        "    W1_shape = (20, 3, 5, 5) # (num_feature_maps, num_color_channels, filter_width, filter_height)\n",
        "    W1 = self.init_filter(W1_shape)\n",
        "    b1 = np.zeros(W1_shape[0])\n",
        "    \n",
        "    # after conv will be of dimension 14 - 5 + 1 = 10\n",
        "    # after downsample 10 / 2 = 5\n",
        "    W2_shape = (50, 20, 5, 5) # (num_feature_maps, num_color_channels, filter_width, filter_height)\n",
        "    W2 = self.init_filter(W2_shape)\n",
        "    b2 = np.zeros(W2_shape[0])\n",
        "    \n",
        "    self.layers = []\n",
        "    h = HiddenLayer(2, self.size)\n",
        "    self.layers.append(h)\n",
        "    \n",
        "    f = FinalLayer(self.size, K)\n",
        "    self.layers.append(f)\n",
        "    \n",
        "    self.parameters = []\n",
        "    for obj in self.layers:\n",
        "      self.parameters += obj.params\n",
        "      \n",
        "    X = T.fmatrix('X')\n",
        "    Y = T.ivector('Y')\n",
        "      \n",
        "    pY = self.th_forward(X)\n",
        "    \n",
        "    rcost = reg*T.sum([(p*p).sum() for p in self.parameters])\n",
        "    cost = -T.mean(T.log(pY[T.arange(Y.shape[0]), Y])) + rcost\n",
        "  \n",
        "  def init_filter(self, shape):\n",
        "    return np.random.randn(*shape) * np.sqrt(2.0 / np.prod(shape[1:]))\n",
        "    \n",
        "  def convpool(self, ):\n",
        "    \n",
        "    \n",
        "  def th_forward(self, X):\n",
        "    for obj in self.layers[:-1]:\n",
        "      Z = obj.HiddenLayer_forward(X)\n",
        "    for obj in self.layers[-1:]:\n",
        "      pY = obj.FinalLayer_forward(Z)\n",
        "    "
      ],
      "execution_count": 61,
      "outputs": [
        {
          "output_type": "error",
          "ename": "IndentationError",
          "evalue": "ignored",
          "traceback": [
            "\u001b[0;36m  File \u001b[0;32m\"<ipython-input-61-03c8aa2ee33b>\"\u001b[0;36m, line \u001b[0;32m38\u001b[0m\n\u001b[0;31m    def th_forward(self, X):\u001b[0m\n\u001b[0m      ^\u001b[0m\n\u001b[0;31mIndentationError\u001b[0m\u001b[0;31m:\u001b[0m expected an indented block\n"
          ]
        }
      ]
    },
    {
      "cell_type": "code",
      "metadata": {
        "id": "j35cnX1AyUgp",
        "colab_type": "code",
        "colab": {}
      },
      "source": [
        "def main():\n",
        "  from google.colab import drive\n",
        "  drive.mount('/content/gdrive', force_remount = True)\n",
        "  \n",
        "  train = scipy.io.loadmat('/content/gdrive/My Drive/Colab Notebooks/Convolutional Neural Networks/train_32x32.mat')\n",
        "  test = scipy.io.loadmat('/content/gdrive/My Drive/Colab Notebooks/Convolutional Neural Networks/test_32x32.mat')\n",
        "  \n",
        "  Xtrain = train['X']             # 'X' is a dictionary key pointing to the input data\n",
        "  Ytrain = train['y']             # 'y' is a dictionary key pointing to the targets\n",
        "  #print(Xtrain.shape)            # (32, 32, 3, 73257). This means each N (73257 here) is 32x32x3. H=32, W=32, Colors=3\n",
        "  #print(Ytrain.shape)            # (73257, 1)\n",
        "  \n",
        "  Ytrain = Ytrain.flatten() - 1\n",
        "  #print(Ytrain.shape)            # (73257,)\n",
        "  \n",
        "  Xtest = test['X']\n",
        "  Ytest = test['y']\n",
        "  #print(Xtest.shape)             # (32, 32, 3, 26032). This means each N (26032 here) is 32x32x3. H=32, W=32, Colors=3\n",
        "  #print(Ytest.shape)             # (26032, 1)\n",
        "  \n",
        "  Ytest = Ytest.flatten() - 1\n",
        "  #print(Ytest.shape)             # (26032,)\n",
        "  \n",
        "  Xtrain = (Xtrain.transpose(3,2,0,1) / 255).astype(np.float32)\n",
        "  Xtest = (Xtest.transpose(3,2,0,1) / 255).astype(np.float32)\n",
        "  \n",
        "  model = ANN(500)\n",
        "  model.fit(Xtrain, Ytrain, Xtest, Ytest)\n",
        "  \n",
        "if __name__ == '__main__':\n",
        "  main()"
      ],
      "execution_count": 0,
      "outputs": []
    }
  ]
}