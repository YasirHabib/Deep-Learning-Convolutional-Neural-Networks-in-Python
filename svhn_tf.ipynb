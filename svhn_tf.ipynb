{
  "nbformat": 4,
  "nbformat_minor": 0,
  "metadata": {
    "colab": {
      "name": "svhn_tf.ipynb",
      "version": "0.3.2",
      "provenance": [],
      "collapsed_sections": [],
      "include_colab_link": true
    },
    "kernelspec": {
      "name": "python3",
      "display_name": "Python 3"
    },
    "accelerator": "GPU"
  },
  "cells": [
    {
      "cell_type": "markdown",
      "metadata": {
        "id": "view-in-github",
        "colab_type": "text"
      },
      "source": [
        "<a href=\"https://colab.research.google.com/github/YasirHabib/Deep-Learning-Convolutional-Neural-Networks-in-Python/blob/master/svhn_tf.ipynb\" target=\"_parent\"><img src=\"https://colab.research.google.com/assets/colab-badge.svg\" alt=\"Open In Colab\"/></a>"
      ]
    },
    {
      "cell_type": "code",
      "metadata": {
        "id": "Ue91ElU3C55r",
        "colab_type": "code",
        "colab": {}
      },
      "source": [
        "import numpy as np\n",
        "import scipy.io\n",
        "import matplotlib.pyplot as plt"
      ],
      "execution_count": 0,
      "outputs": []
    },
    {
      "cell_type": "code",
      "metadata": {
        "id": "v2Fdkm0TJln7",
        "colab_type": "code",
        "colab": {}
      },
      "source": [
        "import tensorflow as tf"
      ],
      "execution_count": 0,
      "outputs": []
    },
    {
      "cell_type": "code",
      "metadata": {
        "id": "djE5h-flKW4I",
        "colab_type": "code",
        "colab": {}
      },
      "source": [
        "def init_filter(shape):\n",
        "  w = np.random.randn(*shape) * np.sqrt(2.0 / np.prod(shape[:-1]))\n",
        "  return w.astype(np.float32)"
      ],
      "execution_count": 0,
      "outputs": []
    },
    {
      "cell_type": "code",
      "metadata": {
        "id": "JA0cHZBlY_3e",
        "colab_type": "code",
        "colab": {}
      },
      "source": [
        "def convpool(X, W, b):\n",
        "  # just assume pool size is (2,2) because we need to augment it with 1s\n",
        "  conv_out = tf.nn.conv2d(X, W, strides=[1, 1, 1, 1], padding='SAME')\n",
        "  conv_out = tf.nn.bias_add(conv_out, b)\n",
        "  pool_out = tf.nn.max_pool(conv_out, ksize=[1, 2, 2, 1], strides=[1, 2, 2, 1], padding='SAME')\n",
        "  return tf.nn.relu(pool_out)"
      ],
      "execution_count": 0,
      "outputs": []
    },
    {
      "cell_type": "code",
      "metadata": {
        "id": "KH-Dee76RHoH",
        "colab_type": "code",
        "colab": {}
      },
      "source": [
        "class HiddenLayer():\n",
        "  def __init__(self, D, M):\n",
        "    W = np.random.randn(D, M) / np.sqrt(D)\n",
        "    b = np.zeros(M)\n",
        "    \n",
        "    self.W = tf.Variable(W.astype(np.float32))\n",
        "    self.b = tf.Variable(b.astype(np.float32))\n",
        "    \n",
        "    self.params = [self.W, self.b]\n",
        "    \n",
        "  def HiddenLayer_forward(self, X):\n",
        "    return tf.nn.relu(tf.matmul(X, self.W)+self.b)"
      ],
      "execution_count": 0,
      "outputs": []
    },
    {
      "cell_type": "code",
      "metadata": {
        "id": "ox5Ya0d4Spza",
        "colab_type": "code",
        "colab": {}
      },
      "source": [
        "class FinalLayer():\n",
        "  def __init__(self, M, K):\n",
        "    W = np.random.randn(M, K) / np.sqrt(M)\n",
        "    b = np.zeros(K)\n",
        "    \n",
        "    self.W = tf.Variable(W.astype(np.float32))\n",
        "    self.b = tf.Variable(b.astype(np.float32))\n",
        "    \n",
        "    self.params = [self.W, self.b]\n",
        "    \n",
        "  def FinalLayer_forward(self, Z):\n",
        "    return tf.matmul(Z, self.W)+self.b"
      ],
      "execution_count": 0,
      "outputs": []
    },
    {
      "cell_type": "code",
      "metadata": {
        "id": "OnFsaNP7IdgO",
        "colab_type": "code",
        "colab": {}
      },
      "source": [
        "class CNN():\n",
        "  def __init__(self, size):\n",
        "    self.size = size\n",
        "    \n",
        "  def set_session(self, session):\n",
        "    self.session = session\n",
        "    \n",
        "  def fit(self, Xtrain, Ytrain, Xtest, Ytest, lr=1e-2, reg=0.01, training_epochs=10, batch_sz=500):\n",
        "    N = Xtrain.shape[0]\n",
        "    K = len(set(Ytrain))\n",
        "    \n",
        "    W1_shape = (5, 5, 3, 20) # (filter_width, filter_height, num_color_channels, num_feature_maps)\n",
        "    W1 = init_filter(W1_shape)\n",
        "    b1 = np.zeros(W1_shape[-1], dtype = np.float32)\n",
        "    \n",
        "    W2_shape = (5, 5, 20, 50) # (filter_width, filter_height, old_num_feature_maps, num_feature_maps)\n",
        "    W2 = init_filter(W2_shape)\n",
        "    b2 = np.zeros(W2_shape[-1], dtype = np.float32)\n",
        "    \n",
        "    X = tf.placeholder(tf.float32, shape=(None, 32, 32, 3), name='X')\n",
        "    Y = tf.placeholder(tf.int32, shape=(None,), name='Y')\n",
        "    W1 = tf.Variable(W1)\n",
        "    b1 = tf.Variable(b1)\n",
        "    W2 = tf.Variable(W2)\n",
        "    b2 = tf.Variable(b2)\n",
        "    \n",
        "    self.parameters = [W1,b1,W2,b2]\n",
        "    \n",
        "    self.layers = []\n",
        "    h = HiddenLayer(W2_shape[-1]*8*8, self.size)\n",
        "    self.layers.append(h)\n",
        "    \n",
        "    f = FinalLayer(self.size, K)\n",
        "    self.layers.append(f)\n",
        "    \n",
        "    for obj in self.layers:\n",
        "      self.parameters += obj.params\n",
        "      \n",
        "    # forward pass\n",
        "    Z1 = convpool(X, W1, b1)\n",
        "    Z2 = convpool(Z1, W2, b2)\n",
        "    Z3 = tf.layers.flatten(Z2)\n",
        "    logits = self.tf_forward(Z3)\n",
        "    \n",
        "    rcost = reg*sum([tf.nn.l2_loss(p) for p in self.parameters])\n",
        "    cost = tf.reduce_mean(tf.nn.sparse_softmax_cross_entropy_with_logits(logits=logits, labels=Y)) + rcost\n",
        "    \n",
        "    train_op = tf.train.MomentumOptimizer(lr, momentum=0.9, use_nesterov=True).minimize(cost)\n",
        "    \n",
        "    prediction = tf.argmax(logits, 1)\n",
        "    \n",
        "    self.session.run(tf.global_variables_initializer())\n",
        "    \n",
        "    n_batches = N // batch_sz\n",
        "    costs = []\n",
        "    \n",
        "    for epoch in range(training_epochs):\n",
        "      for j in range(n_batches):\n",
        "        Xbatch = Xtrain[j*batch_sz:(j*batch_sz + batch_sz)]\n",
        "        Ybatch = Ytrain[j*batch_sz:(j*batch_sz + batch_sz)]\n",
        "        \n",
        "        self.session.run(train_op, feed_dict={X:Xbatch, Y:Ybatch})\n",
        "        \n",
        "        if j % 20 == 0:\n",
        "          c, p = self.session.run([cost, prediction], feed_dict={X:Xtest, Y:Ytest})\n",
        "          costs.append(c)\n",
        "          e = np.mean(p != Ytest)\n",
        "          print(\"Epoch\", (epoch + 1), \"Batch\", j, \": cost =\", \"%.2f\" % c, \"error rate =\", \"%.2f\" % e)\n",
        "  \n",
        "    plt.plot(costs, label='cost')\n",
        "    plt.legend()\n",
        "    plt.show()\n",
        "    \n",
        "  def tf_forward(self, X):\n",
        "    for obj in self.layers[:-1]:\n",
        "      Z = obj.HiddenLayer_forward(X)\n",
        "    for obj in self.layers[-1:]:\n",
        "      logits = obj.FinalLayer_forward(Z)\n",
        "    return logits"
      ],
      "execution_count": 0,
      "outputs": []
    },
    {
      "cell_type": "code",
      "metadata": {
        "id": "XsUSEwI_CmnQ",
        "colab_type": "code",
        "outputId": "a8381e99-8bde-404f-f567-8fbef250da56",
        "colab": {
          "base_uri": "https://localhost:8080/",
          "height": 1000
        }
      },
      "source": [
        "def main():\n",
        "  from google.colab import drive\n",
        "  drive.mount('/content/gdrive', force_remount = True)\n",
        "  \n",
        "  train = scipy.io.loadmat('/content/gdrive/My Drive/Colab Notebooks/Convolutional Neural Networks/train_32x32.mat')\n",
        "  test = scipy.io.loadmat('/content/gdrive/My Drive/Colab Notebooks/Convolutional Neural Networks/test_32x32.mat')\n",
        "  \n",
        "  Xtrain = train['X']\n",
        "  Ytrain = train['y']\n",
        "  #print(Xtrain.shape)           (32, 32, 3, 73257)\n",
        "  #print(Ytrain.shape)           (73257, 1)\n",
        "  Ytrain = Ytrain.flatten() - 1\n",
        "  \n",
        "  Xtest = test['X']\n",
        "  Ytest = test['y']\n",
        "  #print(Xtest.shape)            (32, 32, 3, 26032)\n",
        "  #print(Ytest.shape)            (26032, 1)\n",
        "  Ytest = Ytest.flatten() - 1\n",
        "  \n",
        "  Xtrain = (Xtrain.transpose(3,0,1,2) / 255).astype(np.float32)\n",
        "  Xtest = (Xtest.transpose(3,0,1,2) / 255).astype(np.float32)\n",
        "  \n",
        "  model = CNN(500)\n",
        "  session = tf.InteractiveSession()\n",
        "  model.set_session(session)\n",
        "  model.fit(Xtrain, Ytrain, Xtest, Ytest)\n",
        "  \n",
        "if __name__ == '__main__':\n",
        "  main()"
      ],
      "execution_count": 8,
      "outputs": [
        {
          "output_type": "stream",
          "text": [
            "Mounted at /content/gdrive\n"
          ],
          "name": "stdout"
        },
        {
          "output_type": "stream",
          "text": [
            "WARNING: Logging before flag parsing goes to stderr.\n",
            "W0825 13:24:40.248154 139895304906624 deprecation.py:323] From <ipython-input-7-7bbc670b3af3>:42: flatten (from tensorflow.python.layers.core) is deprecated and will be removed in a future version.\n",
            "Instructions for updating:\n",
            "Use keras.layers.flatten instead.\n"
          ],
          "name": "stderr"
        },
        {
          "output_type": "stream",
          "text": [
            "Epoch 1 Batch 0 : cost = 5.52 error rate = 0.80\n",
            "Epoch 1 Batch 20 : cost = 5.39 error rate = 0.80\n",
            "Epoch 1 Batch 40 : cost = 5.25 error rate = 0.77\n",
            "Epoch 1 Batch 60 : cost = 5.10 error rate = 0.78\n",
            "Epoch 1 Batch 80 : cost = 4.95 error rate = 0.77\n",
            "Epoch 1 Batch 100 : cost = 4.78 error rate = 0.70\n",
            "Epoch 1 Batch 120 : cost = 4.65 error rate = 0.70\n",
            "Epoch 1 Batch 140 : cost = 4.28 error rate = 0.53\n",
            "Epoch 2 Batch 0 : cost = 4.16 error rate = 0.52\n",
            "Epoch 2 Batch 20 : cost = 3.87 error rate = 0.45\n",
            "Epoch 2 Batch 40 : cost = 3.55 error rate = 0.35\n",
            "Epoch 2 Batch 60 : cost = 3.31 error rate = 0.28\n",
            "Epoch 2 Batch 80 : cost = 3.11 error rate = 0.25\n",
            "Epoch 2 Batch 100 : cost = 3.08 error rate = 0.28\n",
            "Epoch 2 Batch 120 : cost = 2.88 error rate = 0.22\n",
            "Epoch 2 Batch 140 : cost = 2.74 error rate = 0.18\n",
            "Epoch 3 Batch 0 : cost = 2.77 error rate = 0.22\n",
            "Epoch 3 Batch 20 : cost = 2.62 error rate = 0.18\n",
            "Epoch 3 Batch 40 : cost = 2.62 error rate = 0.21\n",
            "Epoch 3 Batch 60 : cost = 2.49 error rate = 0.17\n",
            "Epoch 3 Batch 80 : cost = 2.40 error rate = 0.17\n",
            "Epoch 3 Batch 100 : cost = 2.35 error rate = 0.18\n",
            "Epoch 3 Batch 120 : cost = 2.26 error rate = 0.16\n",
            "Epoch 3 Batch 140 : cost = 2.20 error rate = 0.16\n",
            "Epoch 4 Batch 0 : cost = 2.22 error rate = 0.17\n",
            "Epoch 4 Batch 20 : cost = 2.13 error rate = 0.16\n",
            "Epoch 4 Batch 40 : cost = 2.08 error rate = 0.16\n",
            "Epoch 4 Batch 60 : cost = 2.05 error rate = 0.16\n",
            "Epoch 4 Batch 80 : cost = 1.98 error rate = 0.15\n",
            "Epoch 4 Batch 100 : cost = 1.95 error rate = 0.16\n",
            "Epoch 4 Batch 120 : cost = 1.88 error rate = 0.15\n",
            "Epoch 4 Batch 140 : cost = 1.83 error rate = 0.15\n",
            "Epoch 5 Batch 0 : cost = 1.85 error rate = 0.15\n",
            "Epoch 5 Batch 20 : cost = 1.79 error rate = 0.15\n",
            "Epoch 5 Batch 40 : cost = 1.74 error rate = 0.15\n",
            "Epoch 5 Batch 60 : cost = 1.73 error rate = 0.15\n",
            "Epoch 5 Batch 80 : cost = 1.68 error rate = 0.15\n",
            "Epoch 5 Batch 100 : cost = 1.66 error rate = 0.16\n",
            "Epoch 5 Batch 120 : cost = 1.60 error rate = 0.14\n",
            "Epoch 5 Batch 140 : cost = 1.57 error rate = 0.14\n",
            "Epoch 6 Batch 0 : cost = 1.59 error rate = 0.15\n",
            "Epoch 6 Batch 20 : cost = 1.53 error rate = 0.14\n",
            "Epoch 6 Batch 40 : cost = 1.50 error rate = 0.14\n",
            "Epoch 6 Batch 60 : cost = 1.49 error rate = 0.14\n",
            "Epoch 6 Batch 80 : cost = 1.46 error rate = 0.15\n",
            "Epoch 6 Batch 100 : cost = 1.44 error rate = 0.15\n",
            "Epoch 6 Batch 120 : cost = 1.39 error rate = 0.14\n",
            "Epoch 6 Batch 140 : cost = 1.37 error rate = 0.14\n",
            "Epoch 7 Batch 0 : cost = 1.40 error rate = 0.15\n",
            "Epoch 7 Batch 20 : cost = 1.34 error rate = 0.14\n",
            "Epoch 7 Batch 40 : cost = 1.32 error rate = 0.14\n",
            "Epoch 7 Batch 60 : cost = 1.32 error rate = 0.14\n",
            "Epoch 7 Batch 80 : cost = 1.29 error rate = 0.14\n",
            "Epoch 7 Batch 100 : cost = 1.28 error rate = 0.15\n",
            "Epoch 7 Batch 120 : cost = 1.24 error rate = 0.14\n",
            "Epoch 7 Batch 140 : cost = 1.22 error rate = 0.14\n",
            "Epoch 8 Batch 0 : cost = 1.26 error rate = 0.15\n",
            "Epoch 8 Batch 20 : cost = 1.20 error rate = 0.14\n",
            "Epoch 8 Batch 40 : cost = 1.18 error rate = 0.13\n",
            "Epoch 8 Batch 60 : cost = 1.20 error rate = 0.14\n",
            "Epoch 8 Batch 80 : cost = 1.17 error rate = 0.14\n",
            "Epoch 8 Batch 100 : cost = 1.17 error rate = 0.15\n",
            "Epoch 8 Batch 120 : cost = 1.13 error rate = 0.13\n",
            "Epoch 8 Batch 140 : cost = 1.12 error rate = 0.14\n",
            "Epoch 9 Batch 0 : cost = 1.15 error rate = 0.14\n",
            "Epoch 9 Batch 20 : cost = 1.10 error rate = 0.14\n",
            "Epoch 9 Batch 40 : cost = 1.09 error rate = 0.13\n",
            "Epoch 9 Batch 60 : cost = 1.10 error rate = 0.14\n",
            "Epoch 9 Batch 80 : cost = 1.08 error rate = 0.14\n",
            "Epoch 9 Batch 100 : cost = 1.08 error rate = 0.15\n",
            "Epoch 9 Batch 120 : cost = 1.04 error rate = 0.13\n",
            "Epoch 9 Batch 140 : cost = 1.03 error rate = 0.13\n",
            "Epoch 10 Batch 0 : cost = 1.07 error rate = 0.14\n",
            "Epoch 10 Batch 20 : cost = 1.02 error rate = 0.13\n",
            "Epoch 10 Batch 40 : cost = 1.01 error rate = 0.13\n",
            "Epoch 10 Batch 60 : cost = 1.03 error rate = 0.14\n",
            "Epoch 10 Batch 80 : cost = 1.01 error rate = 0.14\n",
            "Epoch 10 Batch 100 : cost = 1.02 error rate = 0.15\n",
            "Epoch 10 Batch 120 : cost = 0.98 error rate = 0.13\n",
            "Epoch 10 Batch 140 : cost = 0.97 error rate = 0.13\n"
          ],
          "name": "stdout"
        },
        {
          "output_type": "display_data",
          "data": {
            "image/png": "[encoded data removed]",
            "text/plain": [
              "<Figure size 432x288 with 1 Axes>"
            ]
          },
          "metadata": {
            "tags": []
          }
        }
      ]
    }
  ]
}