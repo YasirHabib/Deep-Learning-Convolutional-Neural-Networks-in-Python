{
  "nbformat": 4,
  "nbformat_minor": 0,
  "metadata": {
    "colab": {
      "name": "svhn_keras.ipynb",
      "version": "0.3.2",
      "provenance": [],
      "collapsed_sections": [],
      "include_colab_link": true
    },
    "kernelspec": {
      "name": "python3",
      "display_name": "Python 3"
    },
    "accelerator": "GPU"
  },
  "cells": [
    {
      "cell_type": "markdown",
      "metadata": {
        "id": "view-in-github",
        "colab_type": "text"
      },
      "source": [
        "<a href=\"https://colab.research.google.com/github/YasirHabib/Deep-Learning-Convolutional-Neural-Networks-in-Python/blob/master/svhn_keras.ipynb\" target=\"_parent\"><img src=\"https://colab.research.google.com/assets/colab-badge.svg\" alt=\"Open In Colab\"/></a>"
      ]
    },
    {
      "cell_type": "code",
      "metadata": {
        "id": "ie3--vWEBslr",
        "colab_type": "code",
        "colab": {}
      },
      "source": [
        "import numpy as np\n",
        "import scipy.io\n",
        "import matplotlib.pyplot as plt"
      ],
      "execution_count": 0,
      "outputs": []
    },
    {
      "cell_type": "code",
      "metadata": {
        "id": "6a6Mjd4dCTX6",
        "colab_type": "code",
        "colab": {}
      },
      "source": [
        "import keras\n",
        "from keras.models import Sequential\n",
        "from keras.layers import Conv2D, MaxPooling2D, Flatten, Dense, Dropout"
      ],
      "execution_count": 0,
      "outputs": []
    },
    {
      "cell_type": "code",
      "metadata": {
        "id": "sxrWK6QrDWpE",
        "colab_type": "code",
        "colab": {}
      },
      "source": [
        "class CNN():\n",
        "  def __init__(self, size):\n",
        "    self.size = size\n",
        "    \n",
        "  def fit(self, Xtrain, Ytrain, Xtest, Ytest):\n",
        "    N = Xtrain.shape[0]\n",
        "    K = len(set(Ytrain))\n",
        "    \n",
        "    model = Sequential()\n",
        "    \n",
        "    model.add(Conv2D(20, (5,5), padding='SAME', activation='relu', input_shape=(32,32,3))) # filter size=5,5, num_feature_maps=20\n",
        "    model.add(MaxPooling2D(pool_size=(2,2), strides=2))\n",
        "    model.add(Conv2D(50, (5,5), padding='SAME', activation='relu')) # filter size=5,5, num_feature_maps=50\n",
        "    model.add(MaxPooling2D(pool_size=(2,2), strides=2))\n",
        "    model.add(Flatten())\n",
        "    model.add(Dense(self.size, activation='relu')) # model.add(Dense(self.size, activation='relu', input_dim=3200))\n",
        "    model.add(Dropout(0.3))\n",
        "    model.add(Dense(K, activation='softmax'))\n",
        "    \n",
        "    model.compile(\n",
        "        loss = 'sparse_categorical_crossentropy',\n",
        "        optimizer = keras.optimizers.SGD(lr=0.001, momentum=0.9, nesterov=True),\n",
        "        metrics = ['accuracy']\n",
        "    )\n",
        "    \n",
        "    r = model.fit(Xtrain, Ytrain, validation_data=(Xtest, Ytest), epochs=15, batch_size=32, verbose=0)\n",
        "    \n",
        "#     predictions = model.predict(Xtest)\n",
        "#     print(predictions.shape)\n",
        "    \n",
        "    print(r.history.keys())\n",
        "    \n",
        "    plt.plot(r.history['loss'], label='Training cost')\n",
        "    plt.plot(r.history['val_loss'], label='Test cost')\n",
        "    plt.legend()\n",
        "    plt.show()\n",
        "    \n",
        "    plt.plot(r.history['acc'], label='Training accuracy')\n",
        "    plt.plot(r.history['val_acc'], label='Test accuracy')\n",
        "    plt.legend()\n",
        "    plt.show()"
      ],
      "execution_count": 0,
      "outputs": []
    },
    {
      "cell_type": "code",
      "metadata": {
        "id": "RUiOjPu7CexJ",
        "colab_type": "code",
        "colab": {}
      },
      "source": [
        "def main():\n",
        "  from google.colab import drive\n",
        "  drive.mount('/content/gdrive', force_remount = True)\n",
        "  \n",
        "  train = scipy.io.loadmat('/content/gdrive/My Drive/Colab Notebooks/Convolutional Neural Networks/train_32x32.mat')\n",
        "  test = scipy.io.loadmat('/content/gdrive/My Drive/Colab Notebooks/Convolutional Neural Networks/test_32x32.mat')\n",
        "  \n",
        "  Xtrain = train['X']\n",
        "  Ytrain = train['y']\n",
        "  #print(Xtrain.shape)           (32, 32, 3, 73257)\n",
        "  #print(Ytrain.shape)           (73257, 1)\n",
        "  Ytrain = Ytrain.flatten() - 1\n",
        "  \n",
        "  Xtest = test['X']\n",
        "  Ytest = test['y']\n",
        "  #print(Xtest.shape)            (32, 32, 3, 26032)\n",
        "  #print(Ytest.shape)            (26032, 1)\n",
        "  Ytest = Ytest.flatten() - 1\n",
        "  \n",
        "  Xtrain = (Xtrain.transpose(3,0,1,2) / 255).astype(np.float32)\n",
        "  Xtest = (Xtest.transpose(3,0,1,2) / 255).astype(np.float32)\n",
        "  \n",
        "  model = CNN(500)\n",
        "  model.fit(Xtrain, Ytrain, Xtest, Ytest)"
      ],
      "execution_count": 0,
      "outputs": []
    },
    {
      "cell_type": "code",
      "metadata": {
        "id": "j4q_07SOC4cg",
        "colab_type": "code",
        "outputId": "7ac491de-7c9e-4381-9888-e4ec2202a0a3",
        "colab": {
          "base_uri": "https://localhost:8080/",
          "height": 555
        }
      },
      "source": [
        "if __name__ == '__main__':\n",
        "  main()"
      ],
      "execution_count": 10,
      "outputs": [
        {
          "output_type": "stream",
          "text": [
            "Mounted at /content/gdrive\n",
            "dict_keys(['val_loss', 'val_acc', 'loss', 'acc'])\n"
          ],
          "name": "stdout"
        },
        {
          "output_type": "display_data",
          "data": {
            "image/png": "[encoded data removed]",
            "text/plain": [
              "<Figure size 432x288 with 1 Axes>"
            ]
          },
          "metadata": {
            "tags": []
          }
        },
        {
          "output_type": "display_data",
          "data": {
            "image/png": "[encoded data removed]",
            "text/plain": [
              "<Figure size 432x288 with 1 Axes>"
            ]
          },
          "metadata": {
            "tags": []
          }
        }
      ]
    }
  ]
}