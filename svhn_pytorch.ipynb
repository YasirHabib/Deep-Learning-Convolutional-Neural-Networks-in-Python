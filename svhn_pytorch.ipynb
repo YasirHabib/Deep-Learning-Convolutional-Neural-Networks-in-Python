{
  "nbformat": 4,
  "nbformat_minor": 0,
  "metadata": {
    "colab": {
      "name": "svhn_pytorch.ipynb",
      "version": "0.3.2",
      "provenance": [],
      "collapsed_sections": [],
      "include_colab_link": true
    },
    "kernelspec": {
      "name": "python3",
      "display_name": "Python 3"
    },
    "accelerator": "GPU"
  },
  "cells": [
    {
      "cell_type": "markdown",
      "metadata": {
        "id": "view-in-github",
        "colab_type": "text"
      },
      "source": [
        "<a href=\"https://colab.research.google.com/github/YasirHabib/Deep-Learning-Convolutional-Neural-Networks-in-Python/blob/master/svhn_pytorch.ipynb\" target=\"_parent\"><img src=\"https://colab.research.google.com/assets/colab-badge.svg\" alt=\"Open In Colab\"/></a>"
      ]
    },
    {
      "cell_type": "code",
      "metadata": {
        "id": "m0_S11f6p0VP",
        "colab_type": "code",
        "colab": {}
      },
      "source": [
        "import numpy as np\n",
        "import scipy.io\n",
        "import matplotlib.pyplot as plt"
      ],
      "execution_count": 0,
      "outputs": []
    },
    {
      "cell_type": "code",
      "metadata": {
        "id": "HQRg6jb9qPe-",
        "colab_type": "code",
        "colab": {}
      },
      "source": [
        "import torch\n",
        "import torch.nn as nn\n",
        "import torch.nn.functional as F\n",
        "from torch.autograd import Variable\n",
        "from torch import optim\n",
        "from sklearn.utils import shuffle"
      ],
      "execution_count": 0,
      "outputs": []
    },
    {
      "cell_type": "code",
      "metadata": {
        "id": "67GGYtpiDPaP",
        "colab_type": "code",
        "colab": {}
      },
      "source": [
        "class Model(nn.Module):\n",
        "  def __init__(self, size, K):\n",
        "    super(Model, self).__init__()\n",
        "    # define the layers\n",
        "    # Input channels = 3, output channels = 20, filter size = (5,5)\n",
        "    # padding=0 (valid mode), padding=4 (full mode), padding=2 (same mode)\n",
        "    self.conv1 = nn.Conv2d(3, 20, kernel_size=5, stride=1, padding=2)\n",
        "    self.conv2 = nn.Conv2d(20, 50, kernel_size=5, stride=1, padding=2)\n",
        "    self.pool = nn.MaxPool2d(kernel_size=2, stride=2)\n",
        "    self.linear1 = nn.Linear(50*8*8, size)\n",
        "    self.linear2 = nn.Linear(size, K)\n",
        "    self.dropout = nn.Dropout(0.25)\n",
        "\n",
        "  def forward(self, x):\n",
        "    x = self.pool(F.relu(self.conv1(x)))\n",
        "    x = self.pool(F.relu(self.conv2(x)))\n",
        "    x = x.view(-1, 50*8*8) ## reshaping\n",
        "    x = self.dropout(x)\n",
        "    x = F.relu(self.linear1(x))\n",
        "    x = self.dropout(x)\n",
        "    x = self.linear2(x)\n",
        "    return x\n",
        "    # Note: no final softmax!\n",
        "    # just like Tensorflow, it's included in cross-entropy function"
      ],
      "execution_count": 0,
      "outputs": []
    },
    {
      "cell_type": "code",
      "metadata": {
        "id": "MF07OulbqgEA",
        "colab_type": "code",
        "colab": {}
      },
      "source": [
        "class CNN():\n",
        "  def __init__(self, size):\n",
        "    self.size = size\n",
        "    \n",
        "  def fit(self, Xtrain, Ytrain, Xtest, Ytest, training_epochs=5, batch_sz=500):\n",
        "    N = Xtrain.shape[0]\n",
        "    K = len(set(Ytrain))\n",
        "    \n",
        "    Xtest = Xtest[-10000:]\n",
        "    Ytest = Ytest[-10000:]\n",
        "    \n",
        "    # convert the data arrays into torch tensors\n",
        "    Xtrain = torch.from_numpy(Xtrain).float()\n",
        "    Ytrain = torch.from_numpy(Ytrain).long()\n",
        "    Xtest = torch.from_numpy(Xtest).float()\n",
        "    Ytest = torch.from_numpy(Ytest).long()\n",
        "    \n",
        "    model = Model(self.size, K)\n",
        "    \n",
        "    loss = nn.CrossEntropyLoss()\n",
        "    \n",
        "    optimizer = optim.Adam(model.parameters())\n",
        "    \n",
        "    def train(model, loss, optimizer, inputs, labels):\n",
        "      inputs = Variable(inputs, requires_grad=False)\n",
        "      labels = Variable(labels, requires_grad=False)\n",
        "      \n",
        "      optimizer.zero_grad()\n",
        "      \n",
        "      # get output from the model, given the inputs\n",
        "      logits = model(inputs)\n",
        "      \n",
        "      # get loss for the predicted output\n",
        "      cost = loss(logits, labels)\n",
        "      \n",
        "      # get gradients w.r.t to parameters\n",
        "      cost.backward()\n",
        "      \n",
        "      # update parameters\n",
        "      optimizer.step()\n",
        "      \n",
        "      return cost.item()\n",
        "    \n",
        "    def test(model, loss, inputs, labels):\n",
        "      inputs = Variable(inputs, requires_grad=False)\n",
        "      labels = Variable(labels, requires_grad=False)\n",
        "      \n",
        "      logits = model(inputs)\n",
        "      cost = loss(logits, labels)\n",
        "      \n",
        "      return cost.item()\n",
        "    \n",
        "    def predict(model, inputs):\n",
        "      inputs = Variable(inputs, requires_grad=False)\n",
        "      \n",
        "      logits = model(inputs)\n",
        "      return logits.data.numpy().argmax(axis=1)\n",
        "    \n",
        "    n_batches = N // batch_sz\n",
        "    \n",
        "    train_costs = []\n",
        "    test_costs = []\n",
        "    train_accuracies = []\n",
        "    test_accuracies = []\n",
        "    \n",
        "    for epoch in range(training_epochs):\n",
        "      for j in range(n_batches):\n",
        "        Xbatch = Xtrain[j*batch_sz:(j*batch_sz + batch_sz)]\n",
        "        Ybatch = Ytrain[j*batch_sz:(j*batch_sz + batch_sz)]\n",
        "        \n",
        "        train_c=train(model, loss, optimizer, Xbatch, Ybatch)\n",
        "        \n",
        "        if j % 20 == 0:\n",
        "          train_costs.append(train_c)\n",
        "\n",
        "          test_c=test(model, loss, Xtest, Ytest)\n",
        "          test_costs.append(test_c)\n",
        "          \n",
        "          p_train = predict(model, Xbatch)\n",
        "          p_test = predict(model, Xtest)\n",
        "          \n",
        "          acc_train = np.mean(p_train == Ybatch.numpy())\n",
        "          train_accuracies.append(acc_train)\n",
        "\n",
        "          acc_test = np.mean(p_test == Ytest.numpy())\n",
        "          test_accuracies.append(acc_test)\n",
        "          \n",
        "          print(\"Epoch\", (epoch+1), \"Training Cost\", \"%.2f\" % train_c, \"Test cost\", \"%.2f\" % test_c, \"Training Acc\", \"%.2f\" % acc_train, \"Test Acc\", \"%.2f\" % acc_test)\n",
        "          \n",
        "    plt.plot(train_costs, label='Training Cost')\n",
        "    plt.plot(test_costs, label='Test Cost')\n",
        "    plt.legend()\n",
        "    plt.show()\n",
        "    \n",
        "    plt.plot(train_accuracies, label='Training accuracy')\n",
        "    plt.plot(test_accuracies, label='Test accuracy')\n",
        "    plt.legend()\n",
        "    plt.show()"
      ],
      "execution_count": 0,
      "outputs": []
    },
    {
      "cell_type": "code",
      "metadata": {
        "id": "kfMAvu9mqUi5",
        "colab_type": "code",
        "colab": {}
      },
      "source": [
        "def main():\n",
        "  from google.colab import drive\n",
        "  drive.mount('/content/gdrive', force_remount = True)\n",
        "  \n",
        "  train = scipy.io.loadmat('/content/gdrive/My Drive/Colab Notebooks/Convolutional Neural Networks/train_32x32.mat')\n",
        "  test = scipy.io.loadmat('/content/gdrive/My Drive/Colab Notebooks/Convolutional Neural Networks/test_32x32.mat')\n",
        "  \n",
        "  Xtrain = train['X']\n",
        "  Ytrain = train['y']\n",
        "  #print(Xtrain.shape)           (32, 32, 3, 73257)\n",
        "  #print(Ytrain.shape)           (73257, 1)\n",
        "  Ytrain = Ytrain.flatten() - 1\n",
        "  \n",
        "  Xtest = test['X']\n",
        "  Ytest = test['y']\n",
        "  #print(Xtest.shape)            (32, 32, 3, 26032)\n",
        "  #print(Ytest.shape)            (26032, 1)\n",
        "  Ytest = Ytest.flatten() - 1\n",
        "  \n",
        "  Xtrain = (Xtrain.transpose(3,2,0,1) / 255).astype(np.float32)\n",
        "  Xtest = (Xtest.transpose(3,2,0,1) / 255).astype(np.float32)\n",
        "  \n",
        "  model = CNN(500)\n",
        "  model.fit(Xtrain, Ytrain, Xtest, Ytest)"
      ],
      "execution_count": 0,
      "outputs": []
    },
    {
      "cell_type": "code",
      "metadata": {
        "id": "IjFNZ56CqVh3",
        "colab_type": "code",
        "outputId": "7c87b872-036a-45ad-9454-b2b43f18e2b9",
        "colab": {
          "base_uri": "https://localhost:8080/",
          "height": 1000
        }
      },
      "source": [
        "if __name__ == '__main__':\n",
        "  main()"
      ],
      "execution_count": 6,
      "outputs": [
        {
          "output_type": "stream",
          "text": [
            "Mounted at /content/gdrive\n",
            "Epoch 1 Training Cost 2.30 Test cost 2.24 Training Acc 0.20 Test Acc 0.20\n",
            "Epoch 1 Training Cost 2.22 Test cost 2.22 Training Acc 0.20 Test Acc 0.20\n",
            "Epoch 1 Training Cost 2.20 Test cost 2.18 Training Acc 0.23 Test Acc 0.23\n",
            "Epoch 1 Training Cost 2.05 Test cost 1.95 Training Acc 0.23 Test Acc 0.29\n",
            "Epoch 1 Training Cost 1.46 Test cost 1.43 Training Acc 0.56 Test Acc 0.52\n",
            "Epoch 1 Training Cost 1.20 Test cost 1.15 Training Acc 0.62 Test Acc 0.63\n",
            "Epoch 1 Training Cost 0.98 Test cost 0.97 Training Acc 0.69 Test Acc 0.70\n",
            "Epoch 1 Training Cost 0.80 Test cost 0.86 Training Acc 0.71 Test Acc 0.74\n",
            "Epoch 2 Training Cost 0.94 Test cost 0.83 Training Acc 0.73 Test Acc 0.76\n",
            "Epoch 2 Training Cost 0.65 Test cost 0.78 Training Acc 0.80 Test Acc 0.77\n",
            "Epoch 2 Training Cost 0.80 Test cost 0.75 Training Acc 0.76 Test Acc 0.78\n",
            "Epoch 2 Training Cost 0.85 Test cost 0.71 Training Acc 0.74 Test Acc 0.79\n",
            "Epoch 2 Training Cost 0.62 Test cost 0.69 Training Acc 0.85 Test Acc 0.80\n",
            "Epoch 2 Training Cost 0.66 Test cost 0.67 Training Acc 0.82 Test Acc 0.80\n",
            "Epoch 2 Training Cost 0.62 Test cost 0.66 Training Acc 0.83 Test Acc 0.81\n",
            "Epoch 2 Training Cost 0.55 Test cost 0.62 Training Acc 0.84 Test Acc 0.82\n",
            "Epoch 3 Training Cost 0.67 Test cost 0.66 Training Acc 0.80 Test Acc 0.81\n",
            "Epoch 3 Training Cost 0.45 Test cost 0.64 Training Acc 0.88 Test Acc 0.82\n",
            "Epoch 3 Training Cost 0.69 Test cost 0.61 Training Acc 0.82 Test Acc 0.82\n",
            "Epoch 3 Training Cost 0.66 Test cost 0.61 Training Acc 0.80 Test Acc 0.82\n",
            "Epoch 3 Training Cost 0.50 Test cost 0.59 Training Acc 0.88 Test Acc 0.83\n",
            "Epoch 3 Training Cost 0.52 Test cost 0.58 Training Acc 0.83 Test Acc 0.83\n",
            "Epoch 3 Training Cost 0.52 Test cost 0.58 Training Acc 0.85 Test Acc 0.84\n",
            "Epoch 3 Training Cost 0.44 Test cost 0.57 Training Acc 0.87 Test Acc 0.83\n",
            "Epoch 4 Training Cost 0.57 Test cost 0.56 Training Acc 0.84 Test Acc 0.83\n",
            "Epoch 4 Training Cost 0.42 Test cost 0.57 Training Acc 0.89 Test Acc 0.83\n",
            "Epoch 4 Training Cost 0.63 Test cost 0.55 Training Acc 0.86 Test Acc 0.83\n",
            "Epoch 4 Training Cost 0.54 Test cost 0.54 Training Acc 0.84 Test Acc 0.84\n",
            "Epoch 4 Training Cost 0.39 Test cost 0.54 Training Acc 0.90 Test Acc 0.84\n",
            "Epoch 4 Training Cost 0.48 Test cost 0.54 Training Acc 0.87 Test Acc 0.84\n",
            "Epoch 4 Training Cost 0.47 Test cost 0.53 Training Acc 0.86 Test Acc 0.85\n",
            "Epoch 4 Training Cost 0.37 Test cost 0.52 Training Acc 0.89 Test Acc 0.85\n",
            "Epoch 5 Training Cost 0.50 Test cost 0.52 Training Acc 0.84 Test Acc 0.85\n",
            "Epoch 5 Training Cost 0.39 Test cost 0.53 Training Acc 0.90 Test Acc 0.85\n",
            "Epoch 5 Training Cost 0.62 Test cost 0.52 Training Acc 0.87 Test Acc 0.85\n",
            "Epoch 5 Training Cost 0.50 Test cost 0.50 Training Acc 0.86 Test Acc 0.85\n",
            "Epoch 5 Training Cost 0.35 Test cost 0.52 Training Acc 0.89 Test Acc 0.84\n",
            "Epoch 5 Training Cost 0.45 Test cost 0.50 Training Acc 0.88 Test Acc 0.85\n",
            "Epoch 5 Training Cost 0.43 Test cost 0.50 Training Acc 0.88 Test Acc 0.85\n",
            "Epoch 5 Training Cost 0.33 Test cost 0.50 Training Acc 0.91 Test Acc 0.86\n"
          ],
          "name": "stdout"
        },
        {
          "output_type": "display_data",
          "data": {
            "image/png": "[encoded data removed]",
            "text/plain": [
              "<Figure size 432x288 with 1 Axes>"
            ]
          },
          "metadata": {
            "tags": []
          }
        },
        {
          "output_type": "display_data",
          "data": {
            "image/png": "[encoded data removed]",
            "text/plain": [
              "<Figure size 432x288 with 1 Axes>"
            ]
          },
          "metadata": {
            "tags": []
          }
        }
      ]
    }
  ]
}